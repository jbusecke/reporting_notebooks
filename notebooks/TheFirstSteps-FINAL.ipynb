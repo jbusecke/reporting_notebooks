{
 "cells": [
  {
   "cell_type": "raw",
   "metadata": {},
   "source": [
    "<script>\n",
    "  jQuery(document).ready(function($) {\n",
    "\n",
    "  $(window).load(function(){\n",
    "    $('#preloader').fadeOut('slow',function(){$(this).remove();});\n",
    "  });\n",
    "\n",
    "  });\n",
    "</script>\n",
    "\n",
    "<style type=\"text/css\">\n",
    "  div#preloader { position: fixed;\n",
    "      left: 0;\n",
    "      top: 0;\n",
    "      z-index: 999;\n",
    "      width: 100%;\n",
    "      height: 100%;\n",
    "      overflow: visible;\n",
    "      background: #fff url('http://preloaders.net/preloaders/720/Moving%20line.gif') no-repeat center center;\n",
    "  }\n",
    "\n",
    "</style>\n",
    "\n",
    "<div id=\"preloader\"></div>"
   ]
  },
  {
   "cell_type": "raw",
   "metadata": {},
   "source": [
    "<script>\n",
    "  function code_toggle() {\n",
    "    if (code_shown){\n",
    "      $('div.input').hide('500');\n",
    "      $('#toggleButton').val('Show Code')\n",
    "    } else {\n",
    "      $('div.input').show('500');\n",
    "      $('#toggleButton').val('Hide Code')\n",
    "    }\n",
    "    code_shown = !code_shown\n",
    "  }\n",
    "\n",
    "  $( document ).ready(function(){\n",
    "    code_shown=false;\n",
    "    $('div.input').hide()\n",
    "  });\n",
    "</script>\n",
    "<form action=\"javascript:code_toggle()\"><input type=\"submit\" id=\"toggleButton\" value=\"Show Code\"></form>\n",
    "\n",
    "<script>\n",
    "  $(document).ready(function(){\n",
    "    $('div.prompt').hide();\n",
    "    $('div.back-to-top').hide();\n",
    "    $('nav#menubar').hide();\n",
    "    $('.breadcrumb').hide();\n",
    "    $('.hidden-print').hide();\n",
    "  });\n",
    "</script>"
   ]
  },
  {
   "cell_type": "markdown",
   "metadata": {},
   "source": [
    "# Introduction\n",
    "\n",
    "Here I am going to look at \n",
    "\n",
    "- a)\n",
    "- b)\n",
    "- c)"
   ]
  },
  {
   "cell_type": "code",
   "execution_count": 11,
   "metadata": {},
   "outputs": [],
   "source": [
    "import xarray as xr\n",
    "import numpy as np\n",
    "%matplotlib inline"
   ]
  },
  {
   "cell_type": "code",
   "execution_count": 12,
   "metadata": {},
   "outputs": [
    {
     "data": {
      "text/plain": [
       "<xarray.DataArray (x: 10, y: 20)>\n",
       "array([[6.089512e-01, 5.921867e-01, 2.887199e-01, 9.124592e-02, 9.271311e-01,\n",
       "        1.852007e-01, 5.549645e-01, 6.716445e-01, 9.405254e-01, 4.138753e-01,\n",
       "        4.651151e-01, 9.805317e-01, 1.132029e-01, 8.954666e-01, 4.230709e-01,\n",
       "        7.235119e-01, 7.597193e-01, 6.979327e-01, 5.570699e-02, 9.337514e-02],\n",
       "       [9.139808e-02, 8.131817e-01, 3.089330e-02, 5.717526e-01, 1.066662e-01,\n",
       "        5.657157e-01, 2.625941e-01, 9.896213e-01, 6.721665e-01, 5.564167e-01,\n",
       "        2.982966e-01, 1.308679e-01, 7.642018e-01, 5.684872e-01, 8.352758e-01,\n",
       "        3.317794e-01, 2.541880e-01, 4.921978e-03, 7.704251e-01, 3.362494e-01],\n",
       "       [3.111530e-01, 5.371339e-01, 8.077625e-01, 3.862287e-01, 4.009356e-01,\n",
       "        7.556269e-01, 9.047113e-01, 2.531478e-01, 4.379836e-01, 7.610534e-01,\n",
       "        6.318273e-03, 8.214699e-01, 2.902651e-01, 7.712718e-01, 8.999661e-01,\n",
       "        4.464614e-01, 7.098822e-02, 1.800008e-01, 5.808595e-02, 6.221029e-01],\n",
       "       [1.137917e-01, 9.279731e-01, 7.208999e-01, 7.674465e-01, 8.406247e-01,\n",
       "        8.498908e-01, 4.015754e-01, 6.817999e-01, 1.533586e-01, 9.221862e-01,\n",
       "        4.611826e-01, 5.863989e-01, 7.464779e-01, 1.398929e-01, 6.754868e-01,\n",
       "        2.731296e-02, 7.797667e-01, 1.670179e-01, 9.328458e-01, 3.503391e-01],\n",
       "       [8.348758e-02, 7.487514e-01, 5.056826e-02, 9.780706e-01, 6.783454e-01,\n",
       "        6.472068e-01, 8.483019e-01, 3.792755e-01, 7.031391e-01, 4.176098e-01,\n",
       "        1.328022e-01, 7.313341e-01, 1.641179e-02, 9.542104e-01, 7.993335e-01,\n",
       "        8.518552e-01, 7.076589e-01, 7.445155e-01, 4.720021e-01, 5.093500e-01],\n",
       "       [2.778791e-01, 9.808745e-02, 8.998674e-01, 2.798906e-01, 2.503440e-01,\n",
       "        3.451778e-01, 3.797488e-01, 6.584744e-01, 6.882464e-01, 6.176427e-01,\n",
       "        2.928799e-01, 7.657277e-02, 8.867912e-01, 8.939456e-01, 6.136981e-01,\n",
       "        4.207783e-01, 4.616000e-01, 7.854896e-01, 4.293707e-02, 9.572357e-01],\n",
       "       [8.406274e-02, 1.504745e-01, 6.030014e-02, 6.721167e-01, 1.835887e-01,\n",
       "        2.012850e-01, 7.604827e-01, 8.764416e-01, 1.732119e-01, 9.787593e-01,\n",
       "        4.089368e-01, 7.592372e-01, 1.652323e-01, 3.969846e-01, 4.787644e-01,\n",
       "        5.058492e-01, 6.943746e-01, 2.988215e-02, 8.585814e-01, 3.036220e-01],\n",
       "       [8.457635e-01, 2.561272e-01, 8.443130e-01, 4.350447e-01, 8.528330e-01,\n",
       "        1.783162e-01, 2.864370e-01, 3.807775e-01, 1.392894e-01, 4.269599e-01,\n",
       "        5.872172e-02, 7.361147e-02, 7.646812e-01, 5.440484e-01, 4.036109e-01,\n",
       "        7.461635e-01, 1.698425e-01, 1.519611e-01, 4.929727e-01, 6.600693e-01],\n",
       "       [3.109070e-01, 3.286642e-01, 7.161659e-01, 7.897546e-01, 4.583196e-01,\n",
       "        1.163877e-01, 4.411938e-01, 3.903958e-01, 3.126172e-02, 4.600458e-02,\n",
       "        3.738154e-01, 6.498342e-01, 8.994535e-01, 4.974055e-01, 8.896595e-01,\n",
       "        8.878730e-01, 3.126902e-01, 3.511536e-01, 4.980407e-01, 3.351488e-02],\n",
       "       [7.245638e-01, 3.379322e-01, 8.100103e-01, 3.593644e-02, 3.076934e-01,\n",
       "        4.975979e-01, 2.115820e-04, 8.443818e-01, 4.922226e-01, 3.827802e-01,\n",
       "        9.822423e-01, 4.598063e-01, 1.124241e-01, 2.174470e-01, 5.273616e-01,\n",
       "        7.051374e-01, 1.175613e-02, 8.015048e-01, 1.618827e-01, 3.250856e-01]])\n",
       "Dimensions without coordinates: x, y"
      ]
     },
     "execution_count": 12,
     "metadata": {},
     "output_type": "execute_result"
    }
   ],
   "source": [
    "rand = np.random.rand(10,20)\n",
    "da = xr.DataArray(rand, dims=['x', 'y'])\n",
    "da"
   ]
  },
  {
   "cell_type": "code",
   "execution_count": 14,
   "metadata": {},
   "outputs": [
    {
     "data": {
      "image/png": "[encoded data removed]",
      "text/plain": [
       "<Figure size 432x288 with 2 Axes>"
      ]
     },
     "metadata": {
      "needs_background": "light"
     },
     "output_type": "display_data"
    }
   ],
   "source": [
    "da.plot();"
   ]
  },
  {
   "cell_type": "markdown",
   "metadata": {},
   "source": [
    "Some cool figure caption or other interpretational stuff. YEAH"
   ]
  },
  {
   "cell_type": "code",
   "execution_count": null,
   "metadata": {},
   "outputs": [],
   "source": []
  }
 ],
 "metadata": {
  "kernelspec": {
   "display_name": "Python 3",
   "language": "python",
   "name": "python3"
  },
  "language_info": {
   "codemirror_mode": {
    "name": "ipython",
    "version": 3
   },
   "file_extension": ".py",
   "mimetype": "text/x-python",
   "name": "python",
   "nbconvert_exporter": "python",
   "pygments_lexer": "ipython3",
   "version": "3.6.7"
  }
 },
 "nbformat": 4,
 "nbformat_minor": 2
}
